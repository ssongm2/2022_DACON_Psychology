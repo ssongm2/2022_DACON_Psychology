{
  "cells": [
    {
      "cell_type": "markdown",
      "metadata": {
        "id": "view-in-github",
        "colab_type": "text"
      },
      "source": [
        "<a href=\"https://colab.research.google.com/github/ddoo0922/Dacon_Nerdiness/blob/main/Nerdiness_EDA.ipynb\" target=\"_parent\"><img src=\"https://colab.research.google.com/assets/colab-badge.svg\" alt=\"Open In Colab\"/></a>"
      ]
    },
    {
      "cell_type": "markdown",
      "id": "681d1618",
      "metadata": {
        "id": "681d1618"
      },
      "source": [
        "Nerdy Personality Attributes Scale (NPAS)\n",
        "- 응답자의 성격이 nerd로 정의된 사람들의 평균과 비슷한지, 아니면 일반 사람들의 평균과 비슷한지 측정하는 테스트\n",
        "- 26개 질문\n",
        "- https://openpsychometrics.org/tests/NPAS/"
      ]
    },
    {
      "cell_type": "markdown",
      "id": "3f99e2d2",
      "metadata": {
        "id": "3f99e2d2"
      },
      "source": [
        "### 칼럼 설명\n",
        "- Q1~Q26: 질문\n",
        "    - 대답: 1 ~ 5\n",
        "- country: 응답자의 국적\n",
        "- introelapse: intro에서 소요된 시간\n",
        "- testelapse: test에서 소요된 시간\n",
        "- surveyelapse: survey에서 소요된 시간\n",
        "- TIPI1~TIPI10: 본인을 나타내는 단어 \n",
        "    - 대답: 1(전혀 아니다) ~ 7(매우 그렇다)\n",
        "- VCL1~VCL16: 지식 수준?, 정확한 의미를 아는 단어 체크 \n",
        "    - 대답: 1(안다), 0 (모른다)\n",
        "- education: 교육 수준\n",
        "- urban: 거주 지역\n",
        "- gender: 성별\n",
        "- engnat: 영어가 모국어인지의 여부\n",
        "- age: 나이\n",
        "- hand: 왼손잡이 or 오른손잡이\n",
        "- religion: 종교\n",
        "- orientation: 지남력 (현재 자신이 놓여 있는 상황을 올바르게 인식하는 능력) https://www.amc.seoul.kr/asan/healthinfo/easymediterm/easyMediTermDetail.do?dictId=3798\n",
        "- voted: 투표에 참여한 횟수\n",
        "- married: 결혼한 횟수\n",
        "- familisize: 가족 구성원 수\n",
        "- ASD: 자폐스펙트럼장애 정도\n",
        "- nerdiness: *타겟변수, nerdiness 정량화하는 프로젝트, nerd인지 아닌지\n",
        "https://educalingo.com/ko/dic-en/nerdiness"
      ]
    },
    {
      "cell_type": "code",
      "execution_count": 1,
      "id": "19649b03",
      "metadata": {
        "id": "19649b03"
      },
      "outputs": [],
      "source": [
        "import pandas as pd\n",
        "import seaborn as sns\n",
        "import matplotlib.pyplot as plt\n",
        "import numpy as np \n",
        "\n",
        "from string import ascii_lowercase\n",
        "from itertools import combinations\n",
        "\n",
        "import lightgbm as lgb\n",
        "from sklearn.ensemble import RandomForestClassifier\n",
        "from lightgbm import LGBMClassifier\n",
        "from sklearn.ensemble import  GradientBoostingClassifier\n",
        "\n",
        "from sklearn.ensemble import VotingClassifier\n",
        "from sklearn.model_selection import KFold\n",
        "from sklearn.model_selection import cross_val_score"
      ]
    },
    {
      "cell_type": "code",
      "execution_count": 3,
      "id": "15e7cf45",
      "metadata": {
        "colab": {
          "base_uri": "https://localhost:8080/"
        },
        "id": "15e7cf45",
        "outputId": "b17586b9-f0d3-4985-df57-66f7de6b889e"
      },
      "outputs": [
        {
          "output_type": "stream",
          "name": "stdout",
          "text": [
            "Drive already mounted at /content/drive; to attempt to forcibly remount, call drive.mount(\"/content/drive\", force_remount=True).\n"
          ]
        }
      ],
      "source": [
        "from google.colab import drive\n",
        "drive.mount('/content/drive')\n",
        "train = pd.read_csv('/content/drive/MyDrive/Colab Notebooks/DACON_nerdiness/train.csv')\n",
        "test = pd.read_csv('/content/drive/MyDrive/Colab Notebooks/DACON_nerdiness/test.csv')"
      ]
    },
    {
      "cell_type": "code",
      "execution_count": 4,
      "id": "Civo4TNCjiTD",
      "metadata": {
        "id": "Civo4TNCjiTD"
      },
      "outputs": [],
      "source": [
        "x_train = train.copy()\n",
        "x_train.drop('nerdiness', axis=1, inplace = True)\n",
        "y_train = train['nerdiness']\n"
      ]
    },
    {
      "cell_type": "code",
      "execution_count": 5,
      "id": "2e27097e",
      "metadata": {
        "colab": {
          "base_uri": "https://localhost:8080/"
        },
        "id": "2e27097e",
        "outputId": "13abd357-afc7-491b-c8fe-644b4a5d27ea"
      },
      "outputs": [
        {
          "output_type": "execute_result",
          "data": {
            "text/plain": [
              "15000"
            ]
          },
          "metadata": {},
          "execution_count": 5
        }
      ],
      "source": [
        "len(x_train.index)"
      ]
    },
    {
      "cell_type": "code",
      "execution_count": 6,
      "id": "93945dc2",
      "metadata": {
        "colab": {
          "base_uri": "https://localhost:8080/"
        },
        "id": "93945dc2",
        "outputId": "f11adb50-c969-4ea1-9b27-f7b8b71d52af"
      },
      "outputs": [
        {
          "output_type": "execute_result",
          "data": {
            "text/plain": [
              "15000"
            ]
          },
          "metadata": {},
          "execution_count": 6
        }
      ],
      "source": [
        "len(y_train.index)"
      ]
    },
    {
      "cell_type": "code",
      "execution_count": 7,
      "id": "IBRviFDPSV4Q",
      "metadata": {
        "id": "IBRviFDPSV4Q"
      },
      "outputs": [],
      "source": [
        "dataset = [x_train, test]\n"
      ]
    },
    {
      "cell_type": "markdown",
      "id": "f0717359",
      "metadata": {
        "id": "f0717359"
      },
      "source": [
        "## Q"
      ]
    },
    {
      "cell_type": "code",
      "execution_count": 8,
      "id": "5abbbe2b",
      "metadata": {
        "colab": {
          "base_uri": "https://localhost:8080/"
        },
        "id": "5abbbe2b",
        "outputId": "83dc2f84-0ebc-41b9-ac8e-ba8560edd36e"
      },
      "outputs": [
        {
          "output_type": "stream",
          "name": "stdout",
          "text": [
            "['Q1', 'Q2', 'Q3', 'Q4', 'Q5', 'Q6', 'Q7', 'Q8', 'Q9', 'Q10', 'Q11', 'Q12', 'Q13', 'Q14', 'Q15', 'Q16', 'Q17', 'Q18', 'Q19', 'Q20', 'Q21', 'Q22', 'Q23', 'Q24', 'Q25', 'Q26']\n"
          ]
        }
      ],
      "source": [
        "Answers = []\n",
        "for i in range(1,27):\n",
        "    Answers.append('Q'+str(i))\n",
        "print(Answers)\n",
        "#Answers = train.iloc[:, 1:27]"
      ]
    },
    {
      "cell_type": "code",
      "execution_count": 9,
      "id": "69d84c92",
      "metadata": {
        "colab": {
          "base_uri": "https://localhost:8080/",
          "height": 298
        },
        "id": "69d84c92",
        "outputId": "fa590275-a4e8-4ee4-927b-387e8ecce5f4"
      },
      "outputs": [
        {
          "output_type": "execute_result",
          "data": {
            "text/plain": [
              "<matplotlib.axes._subplots.AxesSubplot at 0x7f5459ccc990>"
            ]
          },
          "metadata": {},
          "execution_count": 9
        },
        {
          "output_type": "display_data",
          "data": {
            "text/plain": [
              "<Figure size 432x288 with 2 Axes>"
            ],
            "image/png": "[encoded data removed]"
          },
          "metadata": {
            "needs_background": "light"
          }
        }
      ],
      "source": [
        "correlations = train[Answers].corr(method = 'spearman')\n",
        "sns.heatmap(correlations, cmap=\"coolwarm\", square=True, center=0)"
      ]
    },
    {
      "cell_type": "markdown",
      "id": "758cdcbe",
      "metadata": {
        "id": "758cdcbe"
      },
      "source": [
        "양의 상관관계로 나와서 데이콘에서 바꿔놓은 것으로 간주\n",
        "\n",
        "*   항목 추가\n",
        "*   항목 추가\n",
        "\n",
        "\n",
        "->부호 변경 하지 않음"
      ]
    },
    {
      "cell_type": "code",
      "execution_count": 10,
      "id": "b053c77e",
      "metadata": {
        "colab": {
          "base_uri": "https://localhost:8080/"
        },
        "id": "b053c77e",
        "outputId": "1b4cb266-48cf-407a-890a-41afe9875f86"
      },
      "outputs": [
        {
          "output_type": "execute_result",
          "data": {
            "text/plain": [
              "Q1     41\n",
              "Q2     69\n",
              "Q3     50\n",
              "Q4     71\n",
              "Q5     38\n",
              "Q6     48\n",
              "Q7     76\n",
              "Q8     48\n",
              "Q9     56\n",
              "Q10    72\n",
              "Q11    59\n",
              "Q12    67\n",
              "Q13    40\n",
              "Q14    36\n",
              "Q15    45\n",
              "Q16    33\n",
              "Q17    37\n",
              "Q18    63\n",
              "Q19    53\n",
              "Q20    45\n",
              "Q21    39\n",
              "Q22    38\n",
              "Q23    50\n",
              "Q24    61\n",
              "Q25    44\n",
              "Q26    68\n",
              "dtype: int64"
            ]
          },
          "metadata": {},
          "execution_count": 10
        }
      ],
      "source": [
        "#결측값 확인\n",
        "x_train[Answers].isnull().sum()"
      ]
    },
    {
      "cell_type": "code",
      "source": [
        "from sklearn.impute import KNNImputer\n",
        "\n",
        "def knull(col):\n",
        "    imputer = KNNImputer(n_neighbors=3)\n",
        "    a = imputer.fit_transform(train[col])\n",
        "    x_train[col] = a\n",
        "\n",
        "#knull(col) : null값을 knn을 사용하여 채워줍니다.\n",
        "#여기서 주의 하실점이 있어요. col이 2차원 데이터여야지 knn이 가능합니다. 그래서 Q나 TIPI에만 사용할 수 있어요\n",
        "# 아니면 결측치를 채우고 싶은 col과 다른 col들을 묶어서 넣어주어도 가능합니다. 물론 이상치 제거가 우선되야겠죠?\n",
        "\n",
        "knull(Answers)"
      ],
      "metadata": {
        "id": "nnk28CXixf0u"
      },
      "id": "nnk28CXixf0u",
      "execution_count": 17,
      "outputs": []
    },
    {
      "cell_type": "code",
      "execution_count": 18,
      "id": "5006d34e",
      "metadata": {
        "colab": {
          "base_uri": "https://localhost:8080/"
        },
        "id": "5006d34e",
        "outputId": "3a6f58fe-b124-4f95-930f-3df6c719cd5b"
      },
      "outputs": [
        {
          "output_type": "execute_result",
          "data": {
            "text/plain": [
              "Q1     0\n",
              "Q2     0\n",
              "Q3     0\n",
              "Q4     0\n",
              "Q5     0\n",
              "Q6     0\n",
              "Q7     0\n",
              "Q8     0\n",
              "Q9     0\n",
              "Q10    0\n",
              "Q11    0\n",
              "Q12    0\n",
              "Q13    0\n",
              "Q14    0\n",
              "Q15    0\n",
              "Q16    0\n",
              "Q17    0\n",
              "Q18    0\n",
              "Q19    0\n",
              "Q20    0\n",
              "Q21    0\n",
              "Q22    0\n",
              "Q23    0\n",
              "Q24    0\n",
              "Q25    0\n",
              "Q26    0\n",
              "dtype: int64"
            ]
          },
          "metadata": {},
          "execution_count": 18
        }
      ],
      "source": [
        "#다시 결측값 확인\n",
        "x_train[Answers].isnull().sum()"
      ]
    },
    {
      "cell_type": "code",
      "execution_count": null,
      "id": "LJfilfq8WGGf",
      "metadata": {
        "colab": {
          "base_uri": "https://localhost:8080/"
        },
        "id": "LJfilfq8WGGf",
        "outputId": "fb7a19f0-8c35-4d05-a5b6-2af461fca7e2"
      },
      "outputs": [
        {
          "output_type": "execute_result",
          "data": {
            "text/plain": [
              "Q1     0\n",
              "Q2     0\n",
              "Q3     0\n",
              "Q4     0\n",
              "Q5     0\n",
              "Q6     0\n",
              "Q7     0\n",
              "Q8     0\n",
              "Q9     0\n",
              "Q10    0\n",
              "Q11    0\n",
              "Q12    0\n",
              "Q13    0\n",
              "Q14    0\n",
              "Q15    0\n",
              "Q16    0\n",
              "Q17    0\n",
              "Q18    0\n",
              "Q19    0\n",
              "Q20    0\n",
              "Q21    0\n",
              "Q22    0\n",
              "Q23    0\n",
              "Q24    0\n",
              "Q25    0\n",
              "Q26    0\n",
              "dtype: int64"
            ]
          },
          "metadata": {},
          "execution_count": 35
        }
      ],
      "source": [
        "test[Answers].isnull().sum()"
      ]
    },
    {
      "cell_type": "code",
      "execution_count": null,
      "id": "41f51f5b",
      "metadata": {
        "id": "41f51f5b"
      },
      "outputs": [],
      "source": [
        "for data in dataset:\n",
        "  data['Q_score'] = data[Answers].sum(axis=1)"
      ]
    },
    {
      "cell_type": "code",
      "execution_count": null,
      "id": "baa9de7d",
      "metadata": {
        "id": "baa9de7d"
      },
      "outputs": [],
      "source": [
        "#질문별로 비율 계산하여 새로운 피처 생성\n",
        "#Ancoms = list(combinations(Answers, 2))\n",
        "\n",
        "#for data in dataset:\n",
        "  #for a,b in Ancoms:\n",
        "    #data['mach_%s_dv_%s'%(a,b)] = data[a]/data[b]\n",
        "\n"
      ]
    },
    {
      "cell_type": "code",
      "execution_count": null,
      "id": "1fd7a630",
      "metadata": {
        "colab": {
          "base_uri": "https://localhost:8080/",
          "height": 424
        },
        "id": "1fd7a630",
        "outputId": "bb52b810-285e-46c4-fb46-dfc129ca5e47"
      },
      "outputs": [
        {
          "output_type": "execute_result",
          "data": {
            "text/plain": [
              "       index   Q1   Q2   Q3   Q4   Q5   Q6   Q7   Q8   Q9  ...  engnat  age  \\\n",
              "0          0  4.0  4.0  3.0  5.0  5.0  5.0  3.0  5.0  4.0  ...     2.0   19   \n",
              "1          1  4.0  5.0  4.0  4.0  5.0  4.0  5.0  5.0  5.0  ...     1.0   33   \n",
              "2          2  5.0  5.0  5.0  5.0  4.0  5.0  5.0  5.0  5.0  ...     2.0   13   \n",
              "3          3  5.0  4.0  3.0  4.0  5.0  4.0  5.0  4.0  4.0  ...     1.0   28   \n",
              "4          4  5.0  5.0  5.0  5.0  5.0  3.0  5.0  5.0  5.0  ...     2.0   15   \n",
              "...      ...  ...  ...  ...  ...  ...  ...  ...  ...  ...  ...     ...  ...   \n",
              "35447  35447  4.0  5.0  5.0  3.0  3.0  4.0  5.0  5.0  4.0  ...     2.0   16   \n",
              "35448  35448  5.0  5.0  5.0  5.0  5.0  4.0  5.0  3.0  5.0  ...     1.0   16   \n",
              "35449  35449  5.0  5.0  5.0  5.0  5.0  5.0  5.0  5.0  5.0  ...     1.0   31   \n",
              "35450  35450  5.0  5.0  4.0  5.0  5.0  1.0  5.0  1.0  5.0  ...     1.0   19   \n",
              "35451  35451  5.0  5.0  4.0  5.0  2.0  4.0  3.0  5.0  4.0  ...     1.0   14   \n",
              "\n",
              "       hand  religion  orientation  voted  married  familysize  ASD  Q_score  \n",
              "0       1.0       4.0          4.0    1.0      1.0         3.0  2.0    109.0  \n",
              "1       1.0       1.0          5.0    2.0      1.0         5.0  2.0    112.0  \n",
              "2       1.0       4.0          5.0    2.0      1.0         3.0  2.0    109.0  \n",
              "3       1.0       2.0          2.0    2.0      1.0         3.0  2.0     98.0  \n",
              "4       1.0       4.0          5.0    2.0      1.0         2.0  2.0    106.0  \n",
              "...     ...       ...          ...    ...      ...         ...  ...      ...  \n",
              "35447   3.0      10.0          4.0    2.0      1.0         3.0  2.0    108.0  \n",
              "35448   3.0       2.0          5.0    2.0      1.0         2.0  2.0    115.0  \n",
              "35449   1.0       1.0          5.0    1.0      1.0         2.0  2.0    119.0  \n",
              "35450   1.0      12.0          1.0    2.0      1.0         NaN  2.0    104.0  \n",
              "35451   2.0       NaN          2.0    2.0      1.0         1.0  2.0    104.0  \n",
              "\n",
              "[35452 rows x 70 columns]"
            ],
            "text/html": [
              "\n",
              "  <div id=\"df-b4e0c891-bc40-4e38-8e94-bad9ae9d66a5\">\n",
              "    <div class=\"colab-df-container\">\n",
              "      <div>\n",
              "<style scoped>\n",
              "    .dataframe tbody tr th:only-of-type {\n",
              "        vertical-align: middle;\n",
              "    }\n",
              "\n",
              "    .dataframe tbody tr th {\n",
              "        vertical-align: top;\n",
              "    }\n",
              "\n",
              "    .dataframe thead th {\n",
              "        text-align: right;\n",
              "    }\n",
              "</style>\n",
              "<table border=\"1\" class=\"dataframe\">\n",
              "  <thead>\n",
              "    <tr style=\"text-align: right;\">\n",
              "      <th></th>\n",
              "      <th>index</th>\n",
              "      <th>Q1</th>\n",
              "      <th>Q2</th>\n",
              "      <th>Q3</th>\n",
              "      <th>Q4</th>\n",
              "      <th>Q5</th>\n",
              "      <th>Q6</th>\n",
              "      <th>Q7</th>\n",
              "      <th>Q8</th>\n",
              "      <th>Q9</th>\n",
              "      <th>...</th>\n",
              "      <th>engnat</th>\n",
              "      <th>age</th>\n",
              "      <th>hand</th>\n",
              "      <th>religion</th>\n",
              "      <th>orientation</th>\n",
              "      <th>voted</th>\n",
              "      <th>married</th>\n",
              "      <th>familysize</th>\n",
              "      <th>ASD</th>\n",
              "      <th>Q_score</th>\n",
              "    </tr>\n",
              "  </thead>\n",
              "  <tbody>\n",
              "    <tr>\n",
              "      <th>0</th>\n",
              "      <td>0</td>\n",
              "      <td>4.0</td>\n",
              "      <td>4.0</td>\n",
              "      <td>3.0</td>\n",
              "      <td>5.0</td>\n",
              "      <td>5.0</td>\n",
              "      <td>5.0</td>\n",
              "      <td>3.0</td>\n",
              "      <td>5.0</td>\n",
              "      <td>4.0</td>\n",
              "      <td>...</td>\n",
              "      <td>2.0</td>\n",
              "      <td>19</td>\n",
              "      <td>1.0</td>\n",
              "      <td>4.0</td>\n",
              "      <td>4.0</td>\n",
              "      <td>1.0</td>\n",
              "      <td>1.0</td>\n",
              "      <td>3.0</td>\n",
              "      <td>2.0</td>\n",
              "      <td>109.0</td>\n",
              "    </tr>\n",
              "    <tr>\n",
              "      <th>1</th>\n",
              "      <td>1</td>\n",
              "      <td>4.0</td>\n",
              "      <td>5.0</td>\n",
              "      <td>4.0</td>\n",
              "      <td>4.0</td>\n",
              "      <td>5.0</td>\n",
              "      <td>4.0</td>\n",
              "      <td>5.0</td>\n",
              "      <td>5.0</td>\n",
              "      <td>5.0</td>\n",
              "      <td>...</td>\n",
              "      <td>1.0</td>\n",
              "      <td>33</td>\n",
              "      <td>1.0</td>\n",
              "      <td>1.0</td>\n",
              "      <td>5.0</td>\n",
              "      <td>2.0</td>\n",
              "      <td>1.0</td>\n",
              "      <td>5.0</td>\n",
              "      <td>2.0</td>\n",
              "      <td>112.0</td>\n",
              "    </tr>\n",
              "    <tr>\n",
              "      <th>2</th>\n",
              "      <td>2</td>\n",
              "      <td>5.0</td>\n",
              "      <td>5.0</td>\n",
              "      <td>5.0</td>\n",
              "      <td>5.0</td>\n",
              "      <td>4.0</td>\n",
              "      <td>5.0</td>\n",
              "      <td>5.0</td>\n",
              "      <td>5.0</td>\n",
              "      <td>5.0</td>\n",
              "      <td>...</td>\n",
              "      <td>2.0</td>\n",
              "      <td>13</td>\n",
              "      <td>1.0</td>\n",
              "      <td>4.0</td>\n",
              "      <td>5.0</td>\n",
              "      <td>2.0</td>\n",
              "      <td>1.0</td>\n",
              "      <td>3.0</td>\n",
              "      <td>2.0</td>\n",
              "      <td>109.0</td>\n",
              "    </tr>\n",
              "    <tr>\n",
              "      <th>3</th>\n",
              "      <td>3</td>\n",
              "      <td>5.0</td>\n",
              "      <td>4.0</td>\n",
              "      <td>3.0</td>\n",
              "      <td>4.0</td>\n",
              "      <td>5.0</td>\n",
              "      <td>4.0</td>\n",
              "      <td>5.0</td>\n",
              "      <td>4.0</td>\n",
              "      <td>4.0</td>\n",
              "      <td>...</td>\n",
              "      <td>1.0</td>\n",
              "      <td>28</td>\n",
              "      <td>1.0</td>\n",
              "      <td>2.0</td>\n",
              "      <td>2.0</td>\n",
              "      <td>2.0</td>\n",
              "      <td>1.0</td>\n",
              "      <td>3.0</td>\n",
              "      <td>2.0</td>\n",
              "      <td>98.0</td>\n",
              "    </tr>\n",
              "    <tr>\n",
              "      <th>4</th>\n",
              "      <td>4</td>\n",
              "      <td>5.0</td>\n",
              "      <td>5.0</td>\n",
              "      <td>5.0</td>\n",
              "      <td>5.0</td>\n",
              "      <td>5.0</td>\n",
              "      <td>3.0</td>\n",
              "      <td>5.0</td>\n",
              "      <td>5.0</td>\n",
              "      <td>5.0</td>\n",
              "      <td>...</td>\n",
              "      <td>2.0</td>\n",
              "      <td>15</td>\n",
              "      <td>1.0</td>\n",
              "      <td>4.0</td>\n",
              "      <td>5.0</td>\n",
              "      <td>2.0</td>\n",
              "      <td>1.0</td>\n",
              "      <td>2.0</td>\n",
              "      <td>2.0</td>\n",
              "      <td>106.0</td>\n",
              "    </tr>\n",
              "    <tr>\n",
              "      <th>...</th>\n",
              "      <td>...</td>\n",
              "      <td>...</td>\n",
              "      <td>...</td>\n",
              "      <td>...</td>\n",
              "      <td>...</td>\n",
              "      <td>...</td>\n",
              "      <td>...</td>\n",
              "      <td>...</td>\n",
              "      <td>...</td>\n",
              "      <td>...</td>\n",
              "      <td>...</td>\n",
              "      <td>...</td>\n",
              "      <td>...</td>\n",
              "      <td>...</td>\n",
              "      <td>...</td>\n",
              "      <td>...</td>\n",
              "      <td>...</td>\n",
              "      <td>...</td>\n",
              "      <td>...</td>\n",
              "      <td>...</td>\n",
              "      <td>...</td>\n",
              "    </tr>\n",
              "    <tr>\n",
              "      <th>35447</th>\n",
              "      <td>35447</td>\n",
              "      <td>4.0</td>\n",
              "      <td>5.0</td>\n",
              "      <td>5.0</td>\n",
              "      <td>3.0</td>\n",
              "      <td>3.0</td>\n",
              "      <td>4.0</td>\n",
              "      <td>5.0</td>\n",
              "      <td>5.0</td>\n",
              "      <td>4.0</td>\n",
              "      <td>...</td>\n",
              "      <td>2.0</td>\n",
              "      <td>16</td>\n",
              "      <td>3.0</td>\n",
              "      <td>10.0</td>\n",
              "      <td>4.0</td>\n",
              "      <td>2.0</td>\n",
              "      <td>1.0</td>\n",
              "      <td>3.0</td>\n",
              "      <td>2.0</td>\n",
              "      <td>108.0</td>\n",
              "    </tr>\n",
              "    <tr>\n",
              "      <th>35448</th>\n",
              "      <td>35448</td>\n",
              "      <td>5.0</td>\n",
              "      <td>5.0</td>\n",
              "      <td>5.0</td>\n",
              "      <td>5.0</td>\n",
              "      <td>5.0</td>\n",
              "      <td>4.0</td>\n",
              "      <td>5.0</td>\n",
              "      <td>3.0</td>\n",
              "      <td>5.0</td>\n",
              "      <td>...</td>\n",
              "      <td>1.0</td>\n",
              "      <td>16</td>\n",
              "      <td>3.0</td>\n",
              "      <td>2.0</td>\n",
              "      <td>5.0</td>\n",
              "      <td>2.0</td>\n",
              "      <td>1.0</td>\n",
              "      <td>2.0</td>\n",
              "      <td>2.0</td>\n",
              "      <td>115.0</td>\n",
              "    </tr>\n",
              "    <tr>\n",
              "      <th>35449</th>\n",
              "      <td>35449</td>\n",
              "      <td>5.0</td>\n",
              "      <td>5.0</td>\n",
              "      <td>5.0</td>\n",
              "      <td>5.0</td>\n",
              "      <td>5.0</td>\n",
              "      <td>5.0</td>\n",
              "      <td>5.0</td>\n",
              "      <td>5.0</td>\n",
              "      <td>5.0</td>\n",
              "      <td>...</td>\n",
              "      <td>1.0</td>\n",
              "      <td>31</td>\n",
              "      <td>1.0</td>\n",
              "      <td>1.0</td>\n",
              "      <td>5.0</td>\n",
              "      <td>1.0</td>\n",
              "      <td>1.0</td>\n",
              "      <td>2.0</td>\n",
              "      <td>2.0</td>\n",
              "      <td>119.0</td>\n",
              "    </tr>\n",
              "    <tr>\n",
              "      <th>35450</th>\n",
              "      <td>35450</td>\n",
              "      <td>5.0</td>\n",
              "      <td>5.0</td>\n",
              "      <td>4.0</td>\n",
              "      <td>5.0</td>\n",
              "      <td>5.0</td>\n",
              "      <td>1.0</td>\n",
              "      <td>5.0</td>\n",
              "      <td>1.0</td>\n",
              "      <td>5.0</td>\n",
              "      <td>...</td>\n",
              "      <td>1.0</td>\n",
              "      <td>19</td>\n",
              "      <td>1.0</td>\n",
              "      <td>12.0</td>\n",
              "      <td>1.0</td>\n",
              "      <td>2.0</td>\n",
              "      <td>1.0</td>\n",
              "      <td>NaN</td>\n",
              "      <td>2.0</td>\n",
              "      <td>104.0</td>\n",
              "    </tr>\n",
              "    <tr>\n",
              "      <th>35451</th>\n",
              "      <td>35451</td>\n",
              "      <td>5.0</td>\n",
              "      <td>5.0</td>\n",
              "      <td>4.0</td>\n",
              "      <td>5.0</td>\n",
              "      <td>2.0</td>\n",
              "      <td>4.0</td>\n",
              "      <td>3.0</td>\n",
              "      <td>5.0</td>\n",
              "      <td>4.0</td>\n",
              "      <td>...</td>\n",
              "      <td>1.0</td>\n",
              "      <td>14</td>\n",
              "      <td>2.0</td>\n",
              "      <td>NaN</td>\n",
              "      <td>2.0</td>\n",
              "      <td>2.0</td>\n",
              "      <td>1.0</td>\n",
              "      <td>1.0</td>\n",
              "      <td>2.0</td>\n",
              "      <td>104.0</td>\n",
              "    </tr>\n",
              "  </tbody>\n",
              "</table>\n",
              "<p>35452 rows × 70 columns</p>\n",
              "</div>\n",
              "      <button class=\"colab-df-convert\" onclick=\"convertToInteractive('df-b4e0c891-bc40-4e38-8e94-bad9ae9d66a5')\"\n",
              "              title=\"Convert this dataframe to an interactive table.\"\n",
              "              style=\"display:none;\">\n",
              "        \n",
              "  <svg xmlns=\"http://www.w3.org/2000/svg\" height=\"24px\"viewBox=\"0 0 24 24\"\n",
              "       width=\"24px\">\n",
              "    <path d=\"M0 0h24v24H0V0z\" fill=\"none\"/>\n",
              "    <path d=\"M18.56 5.44l.94 2.06.94-2.06 2.06-.94-2.06-.94-.94-2.06-.94 2.06-2.06.94zm-11 1L8.5 8.5l.94-2.06 2.06-.94-2.06-.94L8.5 2.5l-.94 2.06-2.06.94zm10 10l.94 2.06.94-2.06 2.06-.94-2.06-.94-.94-2.06-.94 2.06-2.06.94z\"/><path d=\"M17.41 7.96l-1.37-1.37c-.4-.4-.92-.59-1.43-.59-.52 0-1.04.2-1.43.59L10.3 9.45l-7.72 7.72c-.78.78-.78 2.05 0 2.83L4 21.41c.39.39.9.59 1.41.59.51 0 1.02-.2 1.41-.59l7.78-7.78 2.81-2.81c.8-.78.8-2.07 0-2.86zM5.41 20L4 18.59l7.72-7.72 1.47 1.35L5.41 20z\"/>\n",
              "  </svg>\n",
              "      </button>\n",
              "      \n",
              "  <style>\n",
              "    .colab-df-container {\n",
              "      display:flex;\n",
              "      flex-wrap:wrap;\n",
              "      gap: 12px;\n",
              "    }\n",
              "\n",
              "    .colab-df-convert {\n",
              "      background-color: #E8F0FE;\n",
              "      border: none;\n",
              "      border-radius: 50%;\n",
              "      cursor: pointer;\n",
              "      display: none;\n",
              "      fill: #1967D2;\n",
              "      height: 32px;\n",
              "      padding: 0 0 0 0;\n",
              "      width: 32px;\n",
              "    }\n",
              "\n",
              "    .colab-df-convert:hover {\n",
              "      background-color: #E2EBFA;\n",
              "      box-shadow: 0px 1px 2px rgba(60, 64, 67, 0.3), 0px 1px 3px 1px rgba(60, 64, 67, 0.15);\n",
              "      fill: #174EA6;\n",
              "    }\n",
              "\n",
              "    [theme=dark] .colab-df-convert {\n",
              "      background-color: #3B4455;\n",
              "      fill: #D2E3FC;\n",
              "    }\n",
              "\n",
              "    [theme=dark] .colab-df-convert:hover {\n",
              "      background-color: #434B5C;\n",
              "      box-shadow: 0px 1px 3px 1px rgba(0, 0, 0, 0.15);\n",
              "      filter: drop-shadow(0px 1px 2px rgba(0, 0, 0, 0.3));\n",
              "      fill: #FFFFFF;\n",
              "    }\n",
              "  </style>\n",
              "\n",
              "      <script>\n",
              "        const buttonEl =\n",
              "          document.querySelector('#df-b4e0c891-bc40-4e38-8e94-bad9ae9d66a5 button.colab-df-convert');\n",
              "        buttonEl.style.display =\n",
              "          google.colab.kernel.accessAllowed ? 'block' : 'none';\n",
              "\n",
              "        async function convertToInteractive(key) {\n",
              "          const element = document.querySelector('#df-b4e0c891-bc40-4e38-8e94-bad9ae9d66a5');\n",
              "          const dataTable =\n",
              "            await google.colab.kernel.invokeFunction('convertToInteractive',\n",
              "                                                     [key], {});\n",
              "          if (!dataTable) return;\n",
              "\n",
              "          const docLinkHtml = 'Like what you see? Visit the ' +\n",
              "            '<a target=\"_blank\" href=https://colab.research.google.com/notebooks/data_table.ipynb>data table notebook</a>'\n",
              "            + ' to learn more about interactive tables.';\n",
              "          element.innerHTML = '';\n",
              "          dataTable['output_type'] = 'display_data';\n",
              "          await google.colab.output.renderOutput(dataTable, element);\n",
              "          const docLink = document.createElement('div');\n",
              "          docLink.innerHTML = docLinkHtml;\n",
              "          element.appendChild(docLink);\n",
              "        }\n",
              "      </script>\n",
              "    </div>\n",
              "  </div>\n",
              "  "
            ]
          },
          "metadata": {},
          "execution_count": 38
        }
      ],
      "source": [
        "test"
      ]
    },
    {
      "cell_type": "code",
      "execution_count": null,
      "id": "c93b6648",
      "metadata": {
        "id": "c93b6648"
      },
      "outputs": [],
      "source": [
        "#Tatic/ Morality/ View로 분류하여 새로운 피처 생성\n",
        "for data in dataset:\n",
        "  data['T'] = data['Q1']+data['Q2']+data['Q3']+data['Q7']+data['Q10']+data['Q12']+data['Q15']+data['Q16'] \n",
        "  data['V'] = data['Q4']+data['Q5']+data['Q8']+data['Q11']+data['Q13']+data['Q20']\n",
        "  data['M'] = data['Q9']+data['Q19']"
      ]
    },
    {
      "cell_type": "code",
      "execution_count": null,
      "id": "50d6182b",
      "metadata": {
        "id": "50d6182b"
      },
      "outputs": [],
      "source": [
        "#분산 피처 생성\n",
        "for data in dataset:\n",
        "  data['Mach_var'] = data[Answers].var(axis = 1)"
      ]
    },
    {
      "cell_type": "code",
      "execution_count": null,
      "id": "56b11945",
      "metadata": {
        "id": "56b11945"
      },
      "outputs": [],
      "source": [
        "#기존 Q drop \n",
        "for data in dataset:\n",
        "  data.drop([('Q'+str(i) )for i in range(1,27)], axis = 1, inplace = True)"
      ]
    },
    {
      "cell_type": "markdown",
      "id": "02ad6e72",
      "metadata": {
        "id": "02ad6e72"
      },
      "source": [
        "## country"
      ]
    },
    {
      "cell_type": "markdown",
      "id": "0e13de10",
      "metadata": {
        "id": "0e13de10"
      },
      "source": [
        "- nerdiness와는 무관하다고 판단되어 drop함"
      ]
    },
    {
      "cell_type": "code",
      "execution_count": null,
      "id": "ca45a03e",
      "metadata": {
        "id": "ca45a03e"
      },
      "outputs": [],
      "source": [
        "x_train = x_train.drop(columns=['country'], axis = 1)\n",
        "test = test.drop(columns = ['country'], axis = 1)"
      ]
    },
    {
      "cell_type": "markdown",
      "id": "c3eb25b0",
      "metadata": {
        "id": "c3eb25b0"
      },
      "source": [
        "## elapse"
      ]
    },
    {
      "cell_type": "code",
      "execution_count": null,
      "id": "f9990661",
      "metadata": {
        "id": "f9990661"
      },
      "outputs": [],
      "source": [
        "elapse = ['introelapse', 'testelapse', 'surveyelapse']"
      ]
    },
    {
      "cell_type": "code",
      "execution_count": null,
      "id": "7ae705c1",
      "metadata": {
        "id": "7ae705c1"
      },
      "outputs": [],
      "source": [
        "# plt.figure(figsize=(8,6))\n",
        "# sns.countplot(data=train, x='introelapse', hue = train['nerdiness'])"
      ]
    },
    {
      "cell_type": "code",
      "execution_count": null,
      "id": "b254ed22",
      "metadata": {
        "id": "b254ed22"
      },
      "outputs": [],
      "source": [
        "# sns.distplot(train['introelapse'], rug=True)"
      ]
    },
    {
      "cell_type": "code",
      "execution_count": null,
      "id": "df60367b",
      "metadata": {
        "id": "df60367b"
      },
      "outputs": [],
      "source": [
        "# elapse_correlations = train[elapse].corr(method = 'spearman')\n",
        "# sns.heatmap(elapse_correlations, cmap=\"coolwarm\", square=True, center=0)"
      ]
    },
    {
      "cell_type": "markdown",
      "id": "f7bd2a12",
      "metadata": {
        "id": "f7bd2a12"
      },
      "source": [
        "intro는 test와 survey와 상관관계가 없다고 판단 "
      ]
    },
    {
      "cell_type": "code",
      "execution_count": null,
      "id": "ce1f8908",
      "metadata": {
        "id": "ce1f8908"
      },
      "outputs": [],
      "source": [
        "#걸린시간 합\n",
        "x_train['elapse_sum'] = x_train['testelapse']+x_train['surveyelapse']\n",
        "test['elapse_sum'] = test['testelapse']+test['surveyelapse']\n"
      ]
    },
    {
      "cell_type": "code",
      "execution_count": null,
      "id": "b723bb85",
      "metadata": {
        "id": "b723bb85"
      },
      "outputs": [],
      "source": [
        "#비율도 만들어보기..\n",
        "x_train['test_dv_survey']=x_train['testelapse']/x_train['surveyelapse'] \n",
        "test['test_dv_survey']=test['testelapse']/test['surveyelapse'] \n"
      ]
    },
    {
      "cell_type": "markdown",
      "id": "aa30d578",
      "metadata": {
        "id": "aa30d578"
      },
      "source": [
        "## TIPI"
      ]
    },
    {
      "cell_type": "markdown",
      "id": "954cd912",
      "metadata": {
        "id": "954cd912"
      },
      "source": [
        "##### The TIPI items were rated \"I see myself as:\" _____ such that"
      ]
    },
    {
      "cell_type": "markdown",
      "id": "94524dfb",
      "metadata": {
        "id": "94524dfb"
      },
      "source": [
        "- TIPI1\tExtraverted, enthusiastic. :외향적, 열정적\n",
        "- TIPI2\tCritical, quarrelsome. :비판적, 시비걸기\n",
        "- TIPI3\tDependable, self-disciplined. :신뢰할 수 있는, 자신의 규칙이 있는\n",
        "- TIPI4\tAnxious, easily upset. :불안한, 쉽게 우울한\n",
        "- TIPI5\tOpen to new experiences, complex. :새 경험, 복잡성에 대한 열려있는\n",
        "- TIPI6\tReserved, quiet. :말수가 적고 조용한\n",
        "- TIPI7\tSympathetic, warm. :동정심 많은, 따뜻한\n",
        "- TIPI8\tDisorganized, careless. :무질서한, 부주의한\n",
        "- TIPI9\tCalm, emotionally stable. :침착한, 정서적으로 안정된\n",
        "- TIPI10\tConventional, uncreative. :틀에 박힌, 창의적이지 않은"
      ]
    },
    {
      "cell_type": "code",
      "execution_count": null,
      "id": "e65ef32b",
      "metadata": {
        "colab": {
          "base_uri": "https://localhost:8080/",
          "height": 308
        },
        "id": "e65ef32b",
        "outputId": "eec986bf-22e1-45ba-cda6-b195f42fcf85"
      },
      "outputs": [
        {
          "output_type": "execute_result",
          "data": {
            "text/plain": [
              "<matplotlib.axes._subplots.AxesSubplot at 0x7f617e9130d0>"
            ]
          },
          "metadata": {},
          "execution_count": 49
        },
        {
          "output_type": "display_data",
          "data": {
            "text/plain": [
              "<Figure size 432x288 with 2 Axes>"
            ],
            "image/png": "[encoded data removed]"
          },
          "metadata": {
            "needs_background": "light"
          }
        }
      ],
      "source": [
        "TIPI = []\n",
        "for i in range(1,11):\n",
        "    TIPI.append('TIPI'+str(i))\n",
        "\n",
        "TIPI_correlations = train[TIPI].corr(method = 'spearman')\n",
        "sns.heatmap(TIPI_correlations, cmap=\"coolwarm\", square=True, center=0)"
      ]
    },
    {
      "cell_type": "markdown",
      "id": "965d0d65",
      "metadata": {
        "id": "965d0d65"
      },
      "source": [
        "(1) TIPI 결측치 평균으로 대체"
      ]
    },
    {
      "cell_type": "code",
      "execution_count": null,
      "id": "8d460a37",
      "metadata": {
        "id": "8d460a37"
      },
      "outputs": [],
      "source": [
        "for data in dataset:\n",
        "    data[TIPI] = data[TIPI].fillna(data[TIPI].mean())"
      ]
    },
    {
      "cell_type": "code",
      "execution_count": null,
      "id": "bdd37362",
      "metadata": {
        "colab": {
          "base_uri": "https://localhost:8080/"
        },
        "id": "bdd37362",
        "outputId": "c7c023a0-e86b-4901-ccfe-6ef7114ab6e6"
      },
      "outputs": [
        {
          "output_type": "stream",
          "name": "stdout",
          "text": [
            "TIPI1     0\n",
            "TIPI2     0\n",
            "TIPI3     0\n",
            "TIPI4     0\n",
            "TIPI5     0\n",
            "TIPI6     0\n",
            "TIPI7     0\n",
            "TIPI8     0\n",
            "TIPI9     0\n",
            "TIPI10    0\n",
            "dtype: int64\n",
            "TIPI1     0\n",
            "TIPI2     0\n",
            "TIPI3     0\n",
            "TIPI4     0\n",
            "TIPI5     0\n",
            "TIPI6     0\n",
            "TIPI7     0\n",
            "TIPI8     0\n",
            "TIPI9     0\n",
            "TIPI10    0\n",
            "dtype: int64\n"
          ]
        }
      ],
      "source": [
        "for data in dataset:\n",
        "    count=data[TIPI].isnull().sum()\n",
        "    print(count)"
      ]
    },
    {
      "cell_type": "code",
      "execution_count": null,
      "id": "815f15da",
      "metadata": {
        "colab": {
          "base_uri": "https://localhost:8080/"
        },
        "id": "815f15da",
        "outputId": "89878ecb-2934-49a9-834f-dc580f1c09cd"
      },
      "outputs": [
        {
          "output_type": "execute_result",
          "data": {
            "text/plain": [
              "53"
            ]
          },
          "metadata": {},
          "execution_count": 52
        }
      ],
      "source": [
        "x_train['TIPI1'].isnull().sum()"
      ]
    },
    {
      "cell_type": "code",
      "execution_count": null,
      "id": "a47fdffa",
      "metadata": {
        "id": "a47fdffa"
      },
      "outputs": [],
      "source": [
        "x_train[TIPI] = x_train[TIPI].fillna(x_train[TIPI].mean())\n",
        "test[TIPI] = test[TIPI].fillna(test[TIPI].mean())"
      ]
    },
    {
      "cell_type": "code",
      "execution_count": null,
      "id": "f61be1b6",
      "metadata": {
        "colab": {
          "base_uri": "https://localhost:8080/"
        },
        "id": "f61be1b6",
        "outputId": "1b0c9c9e-cb0a-4ae7-d337-0c8327f1aca0"
      },
      "outputs": [
        {
          "output_type": "execute_result",
          "data": {
            "text/plain": [
              "0"
            ]
          },
          "metadata": {},
          "execution_count": 54
        }
      ],
      "source": [
        "x_train['TIPI3'].isnull().sum()"
      ]
    },
    {
      "cell_type": "markdown",
      "id": "a1f0dad6",
      "metadata": {
        "id": "a1f0dad6"
      },
      "source": [
        "(2) 반대되는 성격 묶기\n",
        "- TIPI1 - TIPI6\n",
        "- TIPI2 - TIPI7\n",
        "- TIPI3 - TIPI8\n",
        "- TIPI4 - TIPI9\n",
        "- TIPI5 - TIPI10"
      ]
    },
    {
      "cell_type": "code",
      "execution_count": null,
      "id": "80594cbb",
      "metadata": {
        "id": "80594cbb"
      },
      "outputs": [],
      "source": [
        "x_train['Extraverted'] = x_train['TIPI1'] - x_train['TIPI6']\n",
        "x_train['Warm'] = x_train['TIPI7']-x_train['TIPI2']\n",
        "x_train['Dependable'] = x_train['TIPI3']-x_train['TIPI8']\n",
        "x_train['Calm'] = x_train['TIPI9']-x_train['TIPI4']\n",
        "x_train['OpenMind'] = x_train['TIPI5']-x_train['TIPI10']"
      ]
    },
    {
      "cell_type": "code",
      "execution_count": null,
      "id": "dFKUa52fmD8j",
      "metadata": {
        "id": "dFKUa52fmD8j"
      },
      "outputs": [],
      "source": [
        "test['Extraverted'] = test['TIPI1'] - test['TIPI']\n",
        "test['Warm'] = test['TIPI7']-test['TIPI2']\n",
        "test['Dependable'] = test['TIPI3']-test['TIPI8']\n",
        "test['Calm'] = test['TIPI9']-test['TIPI4']\n",
        "test['OpenMind'] = test['TIPI5']-test['TIPI10']"
      ]
    },
    {
      "cell_type": "markdown",
      "source": [],
      "metadata": {
        "id": "gHLMo4GLqTmr"
      },
      "id": "gHLMo4GLqTmr"
    },
    {
      "cell_type": "code",
      "execution_count": null,
      "id": "8bc10385",
      "metadata": {
        "colab": {
          "base_uri": "https://localhost:8080/"
        },
        "id": "8bc10385",
        "outputId": "8e4f9332-8761-418b-c593-4ca8cd7036df"
      },
      "outputs": [
        {
          "output_type": "execute_result",
          "data": {
            "text/plain": [
              "0"
            ]
          },
          "metadata": {},
          "execution_count": 57
        }
      ],
      "source": [
        "x_train['Extraverted'].isnull().sum()"
      ]
    },
    {
      "cell_type": "code",
      "execution_count": null,
      "id": "43b2bb67",
      "metadata": {
        "id": "43b2bb67"
      },
      "outputs": [],
      "source": [
        "# #비율 만들기\n",
        "# from itertools import combinations\n",
        "\n",
        "# tps = ['TIPI1', 'TIPI2', 'TIPI3', 'TIPI4', 'TIPI5', 'TIPI6', 'TIPI7', 'TIPI8', 'TIPI9', 'TIPI10']\n",
        "# tpcomns = list(combinations(tps,2))\n",
        "\n",
        "# for a,b in tpcomns:\n",
        "#   x_train['TP_%s_dv_%s'%(a,b)] = x_train[a]/x_train[b]\n",
        "\n",
        "# for a,b in tpcomns:\n",
        "#   test['TP_%s_dv_%s'%(a,b)] = test[a]/test[b]\n"
      ]
    },
    {
      "cell_type": "code",
      "execution_count": null,
      "id": "7a26c551",
      "metadata": {
        "id": "7a26c551"
      },
      "outputs": [],
      "source": [
        "# #비율 만들었으니 기존 TIPI drop\n",
        "\n",
        "x_train.drop([('TIPI'+str(i)) for i in range(1,10)], axis=1, inplace = True)\n",
        "x_train.drop('TIPI10', axis = 1, inplace = True)\n",
        "\n",
        "\n",
        "test.drop([('TIPI'+str(i)) for i in range(1,10)], axis=1, inplace = True)\n",
        "test.drop('TIPI10', axis = 1, inplace = True)\n"
      ]
    },
    {
      "cell_type": "markdown",
      "id": "32b9e204",
      "metadata": {
        "id": "32b9e204"
      },
      "source": [
        "## VCL"
      ]
    },
    {
      "cell_type": "code",
      "execution_count": null,
      "id": "c19a3a3e",
      "metadata": {
        "colab": {
          "base_uri": "https://localhost:8080/"
        },
        "id": "c19a3a3e",
        "outputId": "890970aa-b565-4ffd-ec6e-03d944ec75b7"
      },
      "outputs": [
        {
          "output_type": "stream",
          "name": "stdout",
          "text": [
            "['VCL1', 'VCL2', 'VCL3', 'VCL4', 'VCL5', 'VCL6', 'VCL7', 'VCL8', 'VCL9', 'VCL10', 'VCL11', 'VCL12', 'VCL13', 'VCL14', 'VCL15', 'VCL16']\n"
          ]
        }
      ],
      "source": [
        "VCL = []\n",
        "for i in range(1,17):\n",
        "    VCL.append('VCL'+str(i))\n",
        "print(VCL)"
      ]
    },
    {
      "cell_type": "code",
      "execution_count": null,
      "id": "67516156",
      "metadata": {
        "id": "67516156"
      },
      "outputs": [],
      "source": [
        "x_train['VCL_score'] = x_train[VCL].sum(axis=1)\n",
        "test['VCL_score'] = test[VCL].sum(axis=1)\n"
      ]
    },
    {
      "cell_type": "code",
      "execution_count": null,
      "id": "1b5d2bfa",
      "metadata": {
        "id": "1b5d2bfa"
      },
      "outputs": [],
      "source": [
        "# plt.figure(figsize=(8,6))\n",
        "# sns.countplot(data=train, x='VCL_score', hue = train['nerdiness'])"
      ]
    },
    {
      "cell_type": "markdown",
      "id": "f9ce4924",
      "metadata": {
        "id": "f9ce4924"
      },
      "source": [
        "유의미한 피처라고 판단하여 score만 사용하고 기존 VCL은 drop"
      ]
    },
    {
      "cell_type": "code",
      "execution_count": null,
      "id": "a54ddd43",
      "metadata": {
        "id": "a54ddd43"
      },
      "outputs": [],
      "source": [
        "#기존 VCL drop \n",
        "x_train.drop([('VCL'+str(i) )for i in range(1,17)], axis = 1, inplace = True)\n",
        "test.drop([('VCL'+str(i) )for i in range(1,17)], axis = 1, inplace = True)\n"
      ]
    },
    {
      "cell_type": "markdown",
      "id": "b5bfd820",
      "metadata": {
        "id": "b5bfd820"
      },
      "source": [
        "## education"
      ]
    },
    {
      "cell_type": "code",
      "execution_count": null,
      "id": "6fc1c16a",
      "metadata": {
        "id": "6fc1c16a"
      },
      "outputs": [],
      "source": [
        "#교육수준, 결측치는 0으로 무응답 처리\n",
        "x_train['education'] = x_train['education'].fillna(0)\n",
        "test['education'] = test['education'].fillna(0)\n"
      ]
    },
    {
      "cell_type": "code",
      "execution_count": null,
      "id": "2df60fa3",
      "metadata": {
        "id": "2df60fa3"
      },
      "outputs": [],
      "source": [
        "# plot_dict = train.loc[:,'education'].value_counts().to_dict()\n",
        "# x_values = sorted(plot_dict.keys())\n",
        "# y_values = [plot_dict[x] for x in x_values]\n",
        "# x_names = ['None','1','2','3','4']\n",
        "# plt.bar(x_names,y_values)\n",
        "# plt.tight_layout()\n",
        "# plt.show()"
      ]
    },
    {
      "cell_type": "code",
      "execution_count": null,
      "id": "218dd037",
      "metadata": {
        "id": "218dd037"
      },
      "outputs": [],
      "source": [
        "# #education별로 nerdiness 평균 구함\n",
        "# mean_df = train.groupby('education')['nerdiness'].agg('mean')\n",
        "# display(mean_df)\n",
        "# train['education'] = train['education'].map(mean_df)\n",
        "# test['education'] = test['education'].map(mean_df)"
      ]
    },
    {
      "cell_type": "markdown",
      "id": "784a90f6",
      "metadata": {
        "id": "784a90f6"
      },
      "source": [
        "- 교육수준이 None인 경우, 약 0.568이 nerdiness\n",
        "- 1인 경우, 약 0.591이 nerdiness\n",
        "- 2인 경우, 약 0.543이 nerdiness\n",
        "- 3인 경우, 약 0.550이 nerdiness\n",
        "- 4인 경우, 약 0.533이 nerdiness"
      ]
    },
    {
      "cell_type": "markdown",
      "id": "1b355f3c",
      "metadata": {
        "id": "1b355f3c"
      },
      "source": [
        "## urban"
      ]
    },
    {
      "cell_type": "code",
      "execution_count": null,
      "id": "762900a5",
      "metadata": {
        "id": "762900a5"
      },
      "outputs": [],
      "source": [
        "# plt.figure(figsize = (8,6))\n",
        "# sns.countplot(data=train, x='urban', hue = train['nerdiness'])"
      ]
    },
    {
      "cell_type": "markdown",
      "id": "358947ff",
      "metadata": {
        "id": "358947ff"
      },
      "source": [
        "## Gender"
      ]
    },
    {
      "cell_type": "code",
      "execution_count": null,
      "id": "a7475c43",
      "metadata": {
        "id": "a7475c43"
      },
      "outputs": [],
      "source": [
        "# plt.figure(figsize = (8,6))\n",
        "# sns.countplot(data = train, x = 'gender', hue = train['nerdiness'])"
      ]
    },
    {
      "cell_type": "markdown",
      "id": "61c0a3d5",
      "metadata": {
        "id": "61c0a3d5"
      },
      "source": [
        "3은 무응답으로 추정\n",
        "\n",
        "->추후 대체 고려"
      ]
    },
    {
      "cell_type": "code",
      "execution_count": null,
      "id": "32eaac22",
      "metadata": {
        "colab": {
          "base_uri": "https://localhost:8080/"
        },
        "id": "32eaac22",
        "outputId": "c18c0545-1aa6-47b4-f3c3-49aafa1f78a8"
      },
      "outputs": [
        {
          "output_type": "execute_result",
          "data": {
            "text/plain": [
              "19"
            ]
          },
          "metadata": {},
          "execution_count": 69
        }
      ],
      "source": [
        "x_train['gender'].isnull().sum()"
      ]
    },
    {
      "cell_type": "code",
      "execution_count": null,
      "id": "8274836f",
      "metadata": {
        "id": "8274836f"
      },
      "outputs": [],
      "source": [
        "x_train['gender'] = x_train['gender'].fillna(x_train['gender'].max())\n",
        "test['gender'] = test['gender'].fillna(test['gender'].max())"
      ]
    },
    {
      "cell_type": "code",
      "execution_count": null,
      "id": "dc73d5a3",
      "metadata": {
        "colab": {
          "base_uri": "https://localhost:8080/"
        },
        "id": "dc73d5a3",
        "outputId": "c3af77da-cd30-4ca7-fefb-5621dbf85cf7"
      },
      "outputs": [
        {
          "output_type": "execute_result",
          "data": {
            "text/plain": [
              "0"
            ]
          },
          "metadata": {},
          "execution_count": 71
        }
      ],
      "source": [
        "x_train['gender'].isnull().sum()"
      ]
    },
    {
      "cell_type": "markdown",
      "id": "7019017e",
      "metadata": {
        "id": "7019017e"
      },
      "source": [
        "## engnat"
      ]
    },
    {
      "cell_type": "code",
      "execution_count": null,
      "id": "62634468",
      "metadata": {
        "id": "62634468"
      },
      "outputs": [],
      "source": [
        "# plt.figure(figsize = (8,6))\n",
        "# sns.countplot(data=train, x='engnat', hue = train['nerdiness'])"
      ]
    },
    {
      "cell_type": "code",
      "execution_count": null,
      "id": "d94015ae",
      "metadata": {
        "id": "d94015ae"
      },
      "outputs": [],
      "source": [
        "# # 결측치 확인\n",
        "# train['engnat'].isnull().sum()"
      ]
    },
    {
      "cell_type": "code",
      "execution_count": null,
      "id": "f0722309",
      "metadata": {
        "id": "f0722309"
      },
      "outputs": [],
      "source": [
        "#결측치 대체\n",
        "x_train['engnat'] = x_train['engnat'].fillna(x_train['engnat'].mean())\n",
        "test['engnat'] = test['engnat'].fillna(test['engnat'].mean())\n"
      ]
    },
    {
      "cell_type": "code",
      "execution_count": null,
      "id": "ba692bdc",
      "metadata": {
        "id": "ba692bdc"
      },
      "outputs": [],
      "source": [
        "# 결측치 확인\n",
        "# train['engnat'].isnull().sum()"
      ]
    },
    {
      "cell_type": "markdown",
      "id": "954531f0",
      "metadata": {
        "id": "954531f0"
      },
      "source": [
        "## age"
      ]
    },
    {
      "cell_type": "code",
      "execution_count": null,
      "id": "f9608fae",
      "metadata": {
        "colab": {
          "base_uri": "https://localhost:8080/",
          "height": 406
        },
        "id": "f9608fae",
        "outputId": "6f3dedcc-f3b1-4ab9-db5a-72c72b34b5e6"
      },
      "outputs": [
        {
          "output_type": "execute_result",
          "data": {
            "text/plain": [
              "<matplotlib.axes._subplots.AxesSubplot at 0x7f617b7dd850>"
            ]
          },
          "metadata": {},
          "execution_count": 76
        },
        {
          "output_type": "display_data",
          "data": {
            "text/plain": [
              "<Figure size 576x432 with 1 Axes>"
            ],
            "image/png": "[encoded data removed]"
          },
          "metadata": {
            "needs_background": "light"
          }
        }
      ],
      "source": [
        "plt.figure(figsize = (8,6))\n",
        "sns.countplot(data=train, x='age', hue = train['nerdiness'])"
      ]
    },
    {
      "cell_type": "code",
      "execution_count": null,
      "id": "6cd7f741",
      "metadata": {
        "colab": {
          "base_uri": "https://localhost:8080/"
        },
        "id": "6cd7f741",
        "outputId": "e26f1e7e-04d3-4633-d502-74a455cf5f89"
      },
      "outputs": [
        {
          "output_type": "execute_result",
          "data": {
            "text/plain": [
              "18     1386\n",
              "17     1313\n",
              "16     1239\n",
              "19     1101\n",
              "20      932\n",
              "       ... \n",
              "77        1\n",
              "99        1\n",
              "81        1\n",
              "336       1\n",
              "80        1\n",
              "Name: age, Length: 76, dtype: int64"
            ]
          },
          "metadata": {},
          "execution_count": 77
        }
      ],
      "source": [
        "age_counts = train['age'].value_counts()\n",
        "\n",
        "age_counts"
      ]
    },
    {
      "cell_type": "code",
      "execution_count": null,
      "id": "4b5d46f7",
      "metadata": {
        "colab": {
          "base_uri": "https://localhost:8080/"
        },
        "id": "4b5d46f7",
        "outputId": "2092074e-20da-4455-82a5-1551cbb8643d"
      },
      "outputs": [
        {
          "output_type": "execute_result",
          "data": {
            "text/plain": [
              "545      1\n",
              "88       1\n",
              "722      1\n",
              "38822    1\n",
              "100      1\n",
              "77       1\n",
              "99       1\n",
              "81       1\n",
              "336      1\n",
              "80       1\n",
              "Name: age, dtype: int64"
            ]
          },
          "metadata": {},
          "execution_count": 78
        }
      ],
      "source": [
        "age_counts.tail(10)"
      ]
    },
    {
      "cell_type": "markdown",
      "id": "723b2a92",
      "metadata": {
        "id": "723b2a92"
      },
      "source": [
        "336살 이상치 확인\n",
        "\n",
        "-> 이상치 제거"
      ]
    },
    {
      "cell_type": "code",
      "execution_count": null,
      "id": "b0a12342",
      "metadata": {
        "id": "b0a12342"
      },
      "outputs": [],
      "source": [
        "#이상치 제거\n",
        "#x_train = x_train.drop(x_train[x_train.age > 120].index)\n",
        "#x_train = x_train.drop(x_train[x_train.age < 4].index)\n",
        "\n",
        "#y_train = x_train.drop(x_train[x_train.age > 120].index)\n",
        "#y_train = x_train.drop(x_train[x_train.age < 4].index)\n",
        "\n",
        "#test = test.drop(test[test.age > 120].index)\n",
        "#test = test.drop(test[test.age < 4].index)"
      ]
    },
    {
      "cell_type": "markdown",
      "id": "377710fe",
      "metadata": {
        "id": "377710fe"
      },
      "source": [
        "## hand"
      ]
    },
    {
      "cell_type": "code",
      "execution_count": null,
      "id": "1ac647bc",
      "metadata": {
        "colab": {
          "base_uri": "https://localhost:8080/",
          "height": 406
        },
        "id": "1ac647bc",
        "outputId": "9c88176d-5c48-49af-db0d-d90825d0022e"
      },
      "outputs": [
        {
          "output_type": "execute_result",
          "data": {
            "text/plain": [
              "<matplotlib.axes._subplots.AxesSubplot at 0x7f617af0eb90>"
            ]
          },
          "metadata": {},
          "execution_count": 80
        },
        {
          "output_type": "display_data",
          "data": {
            "text/plain": [
              "<Figure size 576x432 with 1 Axes>"
            ],
            "image/png": "[encoded data removed]"
          },
          "metadata": {
            "needs_background": "light"
          }
        }
      ],
      "source": [
        "plt.figure(figsize = (8,6))\n",
        "sns.countplot(data=train, x='hand', hue = train['nerdiness'])"
      ]
    },
    {
      "cell_type": "markdown",
      "id": "3e7bf447",
      "metadata": {
        "id": "3e7bf447"
      },
      "source": [
        "솔직히 urban이랑 뭔차인지 모르겠지만 저번 1등이 삭제했으니까 삭제"
      ]
    },
    {
      "cell_type": "code",
      "execution_count": null,
      "id": "ea055af3",
      "metadata": {
        "id": "ea055af3"
      },
      "outputs": [],
      "source": [
        "x_train.drop('hand', axis=1, inplace = True)\n",
        "test.drop('hand', axis=1, inplace = True)\n"
      ]
    },
    {
      "cell_type": "markdown",
      "id": "7a0a60cf",
      "metadata": {
        "id": "7a0a60cf"
      },
      "source": [
        "## religion"
      ]
    },
    {
      "cell_type": "code",
      "execution_count": null,
      "id": "e443fea7",
      "metadata": {
        "colab": {
          "base_uri": "https://localhost:8080/",
          "height": 406
        },
        "id": "e443fea7",
        "outputId": "21a35047-536e-494c-fd54-2942070c2135"
      },
      "outputs": [
        {
          "output_type": "execute_result",
          "data": {
            "text/plain": [
              "<matplotlib.axes._subplots.AxesSubplot at 0x7f617b1c6390>"
            ]
          },
          "metadata": {},
          "execution_count": 82
        },
        {
          "output_type": "display_data",
          "data": {
            "text/plain": [
              "<Figure size 576x432 with 1 Axes>"
            ],
            "image/png": "[encoded data removed]"
          },
          "metadata": {
            "needs_background": "light"
          }
        }
      ],
      "source": [
        "plt.figure(figsize = (8,6))\n",
        "sns.countplot(data=train, x='religion', hue = train['nerdiness'])"
      ]
    },
    {
      "cell_type": "markdown",
      "id": "8abe52df",
      "metadata": {
        "id": "8abe52df"
      },
      "source": [
        "1,2번은 차이가 커보이는데.. 뭔가 할게 있나..일단 냅둠"
      ]
    },
    {
      "cell_type": "code",
      "execution_count": null,
      "id": "a19ac9c1",
      "metadata": {
        "colab": {
          "base_uri": "https://localhost:8080/"
        },
        "id": "a19ac9c1",
        "outputId": "f2a2cb08-8606-4bd0-afbd-30843de01471"
      },
      "outputs": [
        {
          "output_type": "execute_result",
          "data": {
            "text/plain": [
              "483"
            ]
          },
          "metadata": {},
          "execution_count": 83
        }
      ],
      "source": [
        "# 결측치 확인\n",
        "x_train['religion'].isnull().sum()\n",
        "test['religion'].isnull().sum()"
      ]
    },
    {
      "cell_type": "code",
      "execution_count": null,
      "id": "137c765d",
      "metadata": {
        "id": "137c765d"
      },
      "outputs": [],
      "source": [
        "#결측치 대체\n",
        "x_train['religion'] = x_train['religion'].fillna(x_train['religion'].mean())\n",
        "test['religion'] = test['religion'].fillna(test['religion'].mean())"
      ]
    },
    {
      "cell_type": "code",
      "execution_count": null,
      "id": "166f5e3f",
      "metadata": {
        "colab": {
          "base_uri": "https://localhost:8080/"
        },
        "id": "166f5e3f",
        "outputId": "bcbfec57-f1db-4d7d-f79a-6341bea206ec"
      },
      "outputs": [
        {
          "output_type": "execute_result",
          "data": {
            "text/plain": [
              "0"
            ]
          },
          "metadata": {},
          "execution_count": 85
        }
      ],
      "source": [
        "# 결측치 확인\n",
        "x_train['religion'].isnull().sum()"
      ]
    },
    {
      "cell_type": "code",
      "execution_count": null,
      "id": "9cdc9902",
      "metadata": {
        "colab": {
          "base_uri": "https://localhost:8080/"
        },
        "id": "9cdc9902",
        "outputId": "701f6ee9-f557-49e4-8208-e31a9911cbf8"
      },
      "outputs": [
        {
          "output_type": "execute_result",
          "data": {
            "text/plain": [
              "0"
            ]
          },
          "metadata": {},
          "execution_count": 86
        }
      ],
      "source": [
        "test['religion'].isnull().sum()"
      ]
    },
    {
      "cell_type": "markdown",
      "id": "55de437b",
      "metadata": {
        "id": "55de437b"
      },
      "source": [
        "## orientation"
      ]
    },
    {
      "cell_type": "code",
      "execution_count": null,
      "id": "02378b30",
      "metadata": {
        "colab": {
          "base_uri": "https://localhost:8080/",
          "height": 406
        },
        "id": "02378b30",
        "outputId": "7ab92496-c4ae-4d45-a261-e970a6b41b9f"
      },
      "outputs": [
        {
          "output_type": "execute_result",
          "data": {
            "text/plain": [
              "<matplotlib.axes._subplots.AxesSubplot at 0x7f617ad70750>"
            ]
          },
          "metadata": {},
          "execution_count": 87
        },
        {
          "output_type": "display_data",
          "data": {
            "text/plain": [
              "<Figure size 576x432 with 1 Axes>"
            ],
            "image/png": "[encoded data removed]"
          },
          "metadata": {
            "needs_background": "light"
          }
        }
      ],
      "source": [
        "plt.figure(figsize = (8,6))\n",
        "sns.countplot(data=train, x='orientation', hue = train['nerdiness'])"
      ]
    },
    {
      "cell_type": "markdown",
      "id": "e9094309",
      "metadata": {
        "id": "e9094309"
      },
      "source": [
        "이것도 일단 그냥 냅두기 결측치만 채워주기"
      ]
    },
    {
      "cell_type": "code",
      "execution_count": null,
      "id": "26b0210f",
      "metadata": {
        "colab": {
          "base_uri": "https://localhost:8080/"
        },
        "id": "26b0210f",
        "outputId": "31726918-0a5b-4786-980e-19efba129da2"
      },
      "outputs": [
        {
          "output_type": "execute_result",
          "data": {
            "text/plain": [
              "399"
            ]
          },
          "metadata": {},
          "execution_count": 88
        }
      ],
      "source": [
        "# 결측치 확인\n",
        "x_train['orientation'].isnull().sum()"
      ]
    },
    {
      "cell_type": "code",
      "execution_count": null,
      "id": "71aae655",
      "metadata": {
        "id": "71aae655"
      },
      "outputs": [],
      "source": [
        "#결측치 대체\n",
        "x_train['orientation'] = x_train['orientation'].fillna(x_train['orientation'].mean())\n",
        "test['orientation'] = test['orientation'].fillna(test['orientation'].mean())\n"
      ]
    },
    {
      "cell_type": "code",
      "execution_count": null,
      "id": "619c2fef",
      "metadata": {
        "colab": {
          "base_uri": "https://localhost:8080/"
        },
        "id": "619c2fef",
        "outputId": "983e83a6-38c1-4afc-8cc4-fa93cf693bab"
      },
      "outputs": [
        {
          "output_type": "execute_result",
          "data": {
            "text/plain": [
              "0"
            ]
          },
          "metadata": {},
          "execution_count": 90
        }
      ],
      "source": [
        "# 결측치 확인\n",
        "x_train['orientation'].isnull().sum()"
      ]
    },
    {
      "cell_type": "markdown",
      "id": "2073fe98",
      "metadata": {
        "id": "2073fe98"
      },
      "source": [
        "## voted"
      ]
    },
    {
      "cell_type": "code",
      "execution_count": null,
      "id": "1577dfa0",
      "metadata": {
        "colab": {
          "base_uri": "https://localhost:8080/",
          "height": 406
        },
        "id": "1577dfa0",
        "outputId": "f99cec3b-942d-481c-88ba-67faefc77758"
      },
      "outputs": [
        {
          "output_type": "execute_result",
          "data": {
            "text/plain": [
              "<matplotlib.axes._subplots.AxesSubplot at 0x7f617b149a10>"
            ]
          },
          "metadata": {},
          "execution_count": 91
        },
        {
          "output_type": "display_data",
          "data": {
            "text/plain": [
              "<Figure size 576x432 with 1 Axes>"
            ],
            "image/png": "[encoded data removed]"
          },
          "metadata": {
            "needs_background": "light"
          }
        }
      ],
      "source": [
        "plt.figure(figsize = (8,6))\n",
        "sns.countplot(data=train, x='voted', hue = train['nerdiness'])"
      ]
    },
    {
      "cell_type": "code",
      "execution_count": null,
      "id": "227aab68",
      "metadata": {
        "colab": {
          "base_uri": "https://localhost:8080/"
        },
        "id": "227aab68",
        "outputId": "56cafe07-bc45-4c9f-dddf-5ca9287b4e08"
      },
      "outputs": [
        {
          "output_type": "execute_result",
          "data": {
            "text/plain": [
              "85"
            ]
          },
          "metadata": {},
          "execution_count": 92
        }
      ],
      "source": [
        "# 결측치 확인\n",
        "x_train['voted'].isnull().sum()"
      ]
    },
    {
      "cell_type": "code",
      "execution_count": null,
      "id": "d27c8679",
      "metadata": {
        "id": "d27c8679"
      },
      "outputs": [],
      "source": [
        "\n",
        "x_train['voted'] = x_train['voted'].fillna(x_train['voted'].mean())\n",
        "test['voted'] = test['voted'].fillna(test['voted'].mean())"
      ]
    },
    {
      "cell_type": "code",
      "execution_count": null,
      "id": "11be67bc",
      "metadata": {
        "colab": {
          "base_uri": "https://localhost:8080/"
        },
        "id": "11be67bc",
        "outputId": "4ae04272-ebca-4575-97e0-38a6bc02f2b5"
      },
      "outputs": [
        {
          "output_type": "execute_result",
          "data": {
            "text/plain": [
              "0"
            ]
          },
          "metadata": {},
          "execution_count": 94
        }
      ],
      "source": [
        "# 결측치 확인\n",
        "x_train['voted'].isnull().sum()"
      ]
    },
    {
      "cell_type": "markdown",
      "id": "e4844c54",
      "metadata": {
        "id": "e4844c54"
      },
      "source": [
        "## married"
      ]
    },
    {
      "cell_type": "code",
      "execution_count": null,
      "id": "2b56bf09",
      "metadata": {
        "colab": {
          "base_uri": "https://localhost:8080/",
          "height": 406
        },
        "id": "2b56bf09",
        "outputId": "9bc5da41-cd7d-4928-d736-33382f156c35"
      },
      "outputs": [
        {
          "output_type": "execute_result",
          "data": {
            "text/plain": [
              "<matplotlib.axes._subplots.AxesSubplot at 0x7f617ae2e250>"
            ]
          },
          "metadata": {},
          "execution_count": 95
        },
        {
          "output_type": "display_data",
          "data": {
            "text/plain": [
              "<Figure size 576x432 with 1 Axes>"
            ],
            "image/png": "[encoded data removed]"
          },
          "metadata": {
            "needs_background": "light"
          }
        }
      ],
      "source": [
        "plt.figure(figsize = (8,6))\n",
        "sns.countplot(data=train, x='married', hue = train['nerdiness'])"
      ]
    },
    {
      "cell_type": "code",
      "execution_count": null,
      "id": "c34569c4",
      "metadata": {
        "colab": {
          "base_uri": "https://localhost:8080/"
        },
        "id": "c34569c4",
        "outputId": "a9479c1a-6346-4c0c-c44f-584f6c497699"
      },
      "outputs": [
        {
          "output_type": "execute_result",
          "data": {
            "text/plain": [
              "82"
            ]
          },
          "metadata": {},
          "execution_count": 96
        }
      ],
      "source": [
        "# 결측치 확인\n",
        "x_train['married'].isnull().sum()"
      ]
    },
    {
      "cell_type": "code",
      "execution_count": null,
      "id": "664f7039",
      "metadata": {
        "id": "664f7039"
      },
      "outputs": [],
      "source": [
        "\n",
        "x_train['married'] = x_train['married'].fillna(x_train['married'].mean())\n",
        "test['married'] = test['married'].fillna(test['married'].mean())"
      ]
    },
    {
      "cell_type": "code",
      "execution_count": null,
      "id": "02c21889",
      "metadata": {
        "colab": {
          "base_uri": "https://localhost:8080/"
        },
        "id": "02c21889",
        "outputId": "229af33c-42c2-45ce-f164-b548219a252f"
      },
      "outputs": [
        {
          "output_type": "execute_result",
          "data": {
            "text/plain": [
              "0"
            ]
          },
          "metadata": {},
          "execution_count": 98
        }
      ],
      "source": [
        "# 결측치 재확인\n",
        "x_train['married'].isnull().sum()"
      ]
    },
    {
      "cell_type": "markdown",
      "id": "164582d1",
      "metadata": {
        "id": "164582d1"
      },
      "source": [
        "## familysize"
      ]
    },
    {
      "cell_type": "code",
      "execution_count": null,
      "id": "e3f6fe1c",
      "metadata": {
        "colab": {
          "base_uri": "https://localhost:8080/",
          "height": 406
        },
        "id": "e3f6fe1c",
        "outputId": "774872d0-768e-493d-8b21-be4627560d89"
      },
      "outputs": [
        {
          "output_type": "execute_result",
          "data": {
            "text/plain": [
              "<matplotlib.axes._subplots.AxesSubplot at 0x7f617ac6ad50>"
            ]
          },
          "metadata": {},
          "execution_count": 99
        },
        {
          "output_type": "display_data",
          "data": {
            "text/plain": [
              "<Figure size 576x432 with 1 Axes>"
            ],
            "image/png": "[encoded data removed]"
          },
          "metadata": {
            "needs_background": "light"
          }
        }
      ],
      "source": [
        "plt.figure(figsize = (8,6))\n",
        "sns.countplot(data=train, x='familysize', hue = train['nerdiness'])"
      ]
    },
    {
      "cell_type": "code",
      "execution_count": null,
      "id": "af71d0d9",
      "metadata": {
        "colab": {
          "base_uri": "https://localhost:8080/",
          "height": 601
        },
        "id": "af71d0d9",
        "outputId": "3a8b0132-ad6a-4081-abae-f3cea06672ba"
      },
      "outputs": [
        {
          "output_type": "execute_result",
          "data": {
            "text/plain": [
              "<matplotlib.axes._subplots.AxesSubplot at 0x7f617b827ad0>"
            ]
          },
          "metadata": {},
          "execution_count": 100
        },
        {
          "output_type": "display_data",
          "data": {
            "text/plain": [
              "<Figure size 648x648 with 2 Axes>"
            ],
            "image/png": "[encoded data removed]"
          },
          "metadata": {
            "needs_background": "light"
          }
        }
      ],
      "source": [
        "plt.figure(figsize=(9,9))\n",
        "corr = train.corr()\n",
        "sns.heatmap(corr, cmap='RdBu')"
      ]
    },
    {
      "cell_type": "code",
      "execution_count": null,
      "id": "989d7e98",
      "metadata": {
        "id": "989d7e98"
      },
      "outputs": [],
      "source": [
        "#이상치 제거\n",
        "#x_train = x_train.drop(x_train[x_train.familysize > 50].index)\n",
        "#test = test.drop(test[test.familysize > 50].index)"
      ]
    },
    {
      "cell_type": "code",
      "execution_count": null,
      "id": "bf5fc1e8",
      "metadata": {
        "colab": {
          "base_uri": "https://localhost:8080/"
        },
        "id": "bf5fc1e8",
        "outputId": "3fda5970-9ce0-409c-a2f6-f13bc92b4804"
      },
      "outputs": [
        {
          "output_type": "execute_result",
          "data": {
            "text/plain": [
              "319"
            ]
          },
          "metadata": {},
          "execution_count": 102
        }
      ],
      "source": [
        "# 결측치 확인\n",
        "x_train['familysize'].isnull().sum()"
      ]
    },
    {
      "cell_type": "code",
      "execution_count": null,
      "id": "74e6a25a",
      "metadata": {
        "id": "74e6a25a"
      },
      "outputs": [],
      "source": [
        "x_train['familysize'] = x_train['familysize'].fillna(x_train['familysize'].mean())\n",
        "test['familysize'] = test['familysize'].fillna(test['familysize'].mean())"
      ]
    },
    {
      "cell_type": "code",
      "execution_count": null,
      "id": "fac96f5a",
      "metadata": {
        "colab": {
          "base_uri": "https://localhost:8080/"
        },
        "id": "fac96f5a",
        "outputId": "1b05156c-7df4-4509-d123-bea3acc75132"
      },
      "outputs": [
        {
          "output_type": "execute_result",
          "data": {
            "text/plain": [
              "0"
            ]
          },
          "metadata": {},
          "execution_count": 104
        }
      ],
      "source": [
        "# 결측치 확인\n",
        "x_train['familysize'].isnull().sum()"
      ]
    },
    {
      "cell_type": "markdown",
      "id": "b737a232",
      "metadata": {
        "id": "b737a232"
      },
      "source": [
        "## ASD"
      ]
    },
    {
      "cell_type": "code",
      "execution_count": null,
      "id": "c4487dbc",
      "metadata": {
        "colab": {
          "base_uri": "https://localhost:8080/",
          "height": 409
        },
        "id": "c4487dbc",
        "outputId": "70ba7e84-b642-4e68-9c0d-2c092d0892d5"
      },
      "outputs": [
        {
          "output_type": "execute_result",
          "data": {
            "text/plain": [
              "<matplotlib.axes._subplots.AxesSubplot at 0x7f617aa43050>"
            ]
          },
          "metadata": {},
          "execution_count": 105
        },
        {
          "output_type": "display_data",
          "data": {
            "text/plain": [
              "<Figure size 576x432 with 1 Axes>"
            ],
            "image/png": "[encoded data removed]"
          },
          "metadata": {
            "needs_background": "light"
          }
        }
      ],
      "source": [
        "plt.figure(figsize = (8,6))\n",
        "sns.countplot(data=train, x='ASD', hue = train['nerdiness'])"
      ]
    },
    {
      "cell_type": "code",
      "execution_count": null,
      "id": "7d8588f4",
      "metadata": {
        "colab": {
          "base_uri": "https://localhost:8080/"
        },
        "id": "7d8588f4",
        "outputId": "e635c8ed-5d12-43f4-8e79-e278ead4cce1"
      },
      "outputs": [
        {
          "output_type": "execute_result",
          "data": {
            "text/plain": [
              "89"
            ]
          },
          "metadata": {},
          "execution_count": 106
        }
      ],
      "source": [
        "# 결측치 확인\n",
        "x_train['ASD'].isnull().sum()"
      ]
    },
    {
      "cell_type": "code",
      "execution_count": null,
      "id": "1d9ae8d2",
      "metadata": {
        "id": "1d9ae8d2"
      },
      "outputs": [],
      "source": [
        "\n",
        "x_train['ASD'] = x_train['ASD'].fillna(x_train['ASD'].mean())\n",
        "test['ASD'] = test['ASD'].fillna(test['ASD'].mean())"
      ]
    },
    {
      "cell_type": "code",
      "execution_count": null,
      "id": "9f061854",
      "metadata": {
        "colab": {
          "base_uri": "https://localhost:8080/"
        },
        "id": "9f061854",
        "outputId": "86e031bd-d60f-43f5-866a-1975d3f51ae5"
      },
      "outputs": [
        {
          "output_type": "execute_result",
          "data": {
            "text/plain": [
              "0"
            ]
          },
          "metadata": {},
          "execution_count": 108
        }
      ],
      "source": [
        "# 결측치 재확인\n",
        "x_train['ASD'].isnull().sum()"
      ]
    },
    {
      "cell_type": "markdown",
      "id": "GGpW2ftVP0X1",
      "metadata": {
        "id": "GGpW2ftVP0X1"
      },
      "source": [
        "**굵은 텍스트**# voting 맛보기"
      ]
    },
    {
      "cell_type": "code",
      "execution_count": null,
      "id": "ifDhH0yiP5re",
      "metadata": {
        "id": "ifDhH0yiP5re"
      },
      "outputs": [],
      "source": [
        "k_fold = KFold(n_splits = 3, shuffle = True, random_state = 0)"
      ]
    },
    {
      "cell_type": "code",
      "execution_count": null,
      "id": "9YFCxzACP1Ph",
      "metadata": {
        "colab": {
          "base_uri": "https://localhost:8080/"
        },
        "id": "9YFCxzACP1Ph",
        "outputId": "6f0a8454-7dbc-49cc-e018-e72ff4db78c2"
      },
      "outputs": [
        {
          "output_type": "execute_result",
          "data": {
            "text/plain": [
              "VotingClassifier(estimators=[('r1', RandomForestClassifier(n_estimators=500)),\n",
              "                             ('r2', LGBMClassifier()),\n",
              "                             ('r3', GradientBoostingClassifier())],\n",
              "                 voting='soft')"
            ]
          },
          "metadata": {},
          "execution_count": 110
        }
      ],
      "source": [
        "clf1 = RandomForestClassifier(n_estimators=500)\n",
        "clf2 = LGBMClassifier()\n",
        "clf3 = GradientBoostingClassifier()\n",
        "soft_vote  = VotingClassifier([('r1',clf1), ('r2', clf2), ('r3',clf3)], voting='soft')\n",
        "soft_vote.fit(x_train, y_train)\n"
      ]
    },
    {
      "cell_type": "code",
      "source": [
        "model = soft_vote\n",
        "pred_y = model.predict_proba(test)\n",
        "pred_y = pred_y[:,1]\n"
      ],
      "metadata": {
        "id": "TM02z4HJjrJk"
      },
      "id": "TM02z4HJjrJk",
      "execution_count": null,
      "outputs": []
    },
    {
      "cell_type": "code",
      "execution_count": null,
      "id": "d9a64cbe",
      "metadata": {
        "id": "d9a64cbe"
      },
      "outputs": [],
      "source": [
        "pred = soft_vote.predict(test)"
      ]
    },
    {
      "cell_type": "code",
      "source": [
        "submission = pd.DataFrame({\n",
        "    \"nerdiness\" : pred_y\n",
        "})\n",
        "submission.to_csv('sub_0811_1.csv', index=True)"
      ],
      "metadata": {
        "id": "6UHL3UOPkKnJ"
      },
      "id": "6UHL3UOPkKnJ",
      "execution_count": null,
      "outputs": []
    },
    {
      "cell_type": "code",
      "execution_count": null,
      "id": "37f56e70",
      "metadata": {
        "colab": {
          "base_uri": "https://localhost:8080/",
          "height": 17
        },
        "id": "37f56e70",
        "outputId": "3fab2492-5c78-4fb9-a930-e51fdb0e1f49"
      },
      "outputs": [
        {
          "output_type": "display_data",
          "data": {
            "text/plain": [
              "<IPython.core.display.Javascript object>"
            ],
            "application/javascript": [
              "\n",
              "    async function download(id, filename, size) {\n",
              "      if (!google.colab.kernel.accessAllowed) {\n",
              "        return;\n",
              "      }\n",
              "      const div = document.createElement('div');\n",
              "      const label = document.createElement('label');\n",
              "      label.textContent = `Downloading \"${filename}\": `;\n",
              "      div.appendChild(label);\n",
              "      const progress = document.createElement('progress');\n",
              "      progress.max = size;\n",
              "      div.appendChild(progress);\n",
              "      document.body.appendChild(div);\n",
              "\n",
              "      const buffers = [];\n",
              "      let downloaded = 0;\n",
              "\n",
              "      const channel = await google.colab.kernel.comms.open(id);\n",
              "      // Send a message to notify the kernel that we're ready.\n",
              "      channel.send({})\n",
              "\n",
              "      for await (const message of channel.messages) {\n",
              "        // Send a message to notify the kernel that we're ready.\n",
              "        channel.send({})\n",
              "        if (message.buffers) {\n",
              "          for (const buffer of message.buffers) {\n",
              "            buffers.push(buffer);\n",
              "            downloaded += buffer.byteLength;\n",
              "            progress.value = downloaded;\n",
              "          }\n",
              "        }\n",
              "      }\n",
              "      const blob = new Blob(buffers, {type: 'application/binary'});\n",
              "      const a = document.createElement('a');\n",
              "      a.href = window.URL.createObjectURL(blob);\n",
              "      a.download = filename;\n",
              "      div.appendChild(a);\n",
              "      a.click();\n",
              "      div.remove();\n",
              "    }\n",
              "  "
            ]
          },
          "metadata": {}
        },
        {
          "output_type": "display_data",
          "data": {
            "text/plain": [
              "<IPython.core.display.Javascript object>"
            ],
            "application/javascript": [
              "download(\"download_38ff30b4-95bd-45a6-90cd-2d282bb7c42b\", \"sub_0811_1.csv\", 879350)"
            ]
          },
          "metadata": {}
        }
      ],
      "source": [
        "from google.colab import files\n",
        "\n",
        "files.download('sub_0811_1.csv')\n",
        "\n"
      ]
    },
    {
      "cell_type": "code",
      "source": [
        "model"
      ],
      "metadata": {
        "colab": {
          "base_uri": "https://localhost:8080/"
        },
        "id": "VUM8yy9bkHDg",
        "outputId": "95850e55-4f73-49e5-bf2c-060359724588"
      },
      "id": "VUM8yy9bkHDg",
      "execution_count": null,
      "outputs": [
        {
          "output_type": "execute_result",
          "data": {
            "text/plain": [
              "VotingClassifier(estimators=[('r1', RandomForestClassifier(n_estimators=500)),\n",
              "                             ('r2', LGBMClassifier()),\n",
              "                             ('r3', GradientBoostingClassifier())],\n",
              "                 voting='soft')"
            ]
          },
          "metadata": {},
          "execution_count": 131
        }
      ]
    },
    {
      "cell_type": "code",
      "execution_count": null,
      "id": "4b34f3f4",
      "metadata": {
        "id": "4b34f3f4"
      },
      "outputs": [],
      "source": []
    }
  ],
  "metadata": {
    "colab": {
      "collapsed_sections": [],
      "provenance": [],
      "include_colab_link": true
    },
    "kernelspec": {
      "display_name": "Python 3 (ipykernel)",
      "language": "python",
      "name": "python3"
    },
    "language_info": {
      "codemirror_mode": {
        "name": "ipython",
        "version": 3
      },
      "file_extension": ".py",
      "mimetype": "text/x-python",
      "name": "python",
      "nbconvert_exporter": "python",
      "pygments_lexer": "ipython3",
      "version": "3.10.4"
    }
  },
  "nbformat": 4,
  "nbformat_minor": 5
}